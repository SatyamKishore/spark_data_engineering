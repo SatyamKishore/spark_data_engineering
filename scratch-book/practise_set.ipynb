{
 "cells": [
  {
   "cell_type": "markdown",
   "id": "bcbec3d7",
   "metadata": {},
   "source": [
    "#### Start a simple Spark Session"
   ]
  },
  {
   "cell_type": "code",
   "execution_count": 1,
   "id": "a13acd3e",
   "metadata": {},
   "outputs": [],
   "source": [
    "from pyspark.sql import SparkSession\n",
    "spark = SparkSession.builder.appName(\"example\").getOrCreate()"
   ]
  },
  {
   "cell_type": "markdown",
   "id": "4fc1068e",
   "metadata": {},
   "source": [
    "#### Read the CSV"
   ]
  },
  {
   "cell_type": "code",
   "execution_count": 2,
   "id": "d99a0564",
   "metadata": {},
   "outputs": [],
   "source": [
    "from pyspark.sql.types import *\n",
    "\n",
    "mySchema = StructType([\n",
    "    StructField('id', IntegerType()),\n",
    "    StructField('first_name', StringType()),\n",
    "    StructField('last_name', StringType()),\n",
    "    StructField('gender', StringType()),\n",
    "    StructField('City', StringType()),\n",
    "    StructField('JobTitle', StringType()),\n",
    "    StructField('Salary', StringType()),\n",
    "    StructField('Latitude', FloatType()),\n",
    "    StructField('Longitude', FloatType())\n",
    "])"
   ]
  },
  {
   "cell_type": "code",
   "execution_count": 3,
   "id": "dcce038f",
   "metadata": {},
   "outputs": [],
   "source": [
    "df = spark.read.csv('../data/original.csv', header=True, schema=mySchema)"
   ]
  },
  {
   "cell_type": "code",
   "execution_count": 4,
   "id": "2ea6b2ec",
   "metadata": {},
   "outputs": [
    {
     "name": "stdout",
     "output_type": "stream",
     "text": [
      "root\n",
      " |-- id: integer (nullable = true)\n",
      " |-- first_name: string (nullable = true)\n",
      " |-- last_name: string (nullable = true)\n",
      " |-- gender: string (nullable = true)\n",
      " |-- City: string (nullable = true)\n",
      " |-- JobTitle: string (nullable = true)\n",
      " |-- Salary: string (nullable = true)\n",
      " |-- Latitude: float (nullable = true)\n",
      " |-- Longitude: float (nullable = true)\n",
      "\n"
     ]
    }
   ],
   "source": [
    "df.printSchema()"
   ]
  },
  {
   "cell_type": "code",
   "execution_count": 5,
   "id": "f26bfcd6",
   "metadata": {},
   "outputs": [
    {
     "name": "stdout",
     "output_type": "stream",
     "text": [
      "+-------+-----------------+----------+---------+------+-------------------+-------------------+---------+------------------+-----------------+\n",
      "|summary|               id|first_name|last_name|gender|               City|           JobTitle|   Salary|          Latitude|        Longitude|\n",
      "+-------+-----------------+----------+---------+------+-------------------+-------------------+---------+------------------+-----------------+\n",
      "|  count|             1000|      1000|     1000|  1000|                999|                998|     1000|               999|             1000|\n",
      "|   mean|            500.5|      NULL|     NULL|  NULL|               NULL|               NULL|     NULL| 25.43151724702484|43.33756460386515|\n",
      "| stddev|288.8194360957494|      NULL|     NULL|  NULL|               NULL|               NULL|     NULL|24.579082550156635| 69.4206453674681|\n",
      "|    min|                1|   Abagail|    Abbay|Female|             Abéché|Account Coordinator|$10101.92|         -54.28115|       -123.04196|\n",
      "|    max|             1000|    Zulema| de Marco|  Male|‘Aşīrah al Qiblīyah|   Web Developer IV|$99948.28|          69.63186|        175.28227|\n",
      "+-------+-----------------+----------+---------+------+-------------------+-------------------+---------+------------------+-----------------+\n",
      "\n"
     ]
    }
   ],
   "source": [
    "df.describe().show()"
   ]
  },
  {
   "cell_type": "code",
   "execution_count": 6,
   "id": "7c43d396",
   "metadata": {},
   "outputs": [
    {
     "data": {
      "text/plain": [
       "1000"
      ]
     },
     "execution_count": 6,
     "metadata": {},
     "output_type": "execute_result"
    }
   ],
   "source": [
    "df.count()"
   ]
  },
  {
   "cell_type": "code",
   "execution_count": 7,
   "id": "98ee7d94",
   "metadata": {},
   "outputs": [
    {
     "data": {
      "text/plain": [
       "1000"
      ]
     },
     "execution_count": 7,
     "metadata": {},
     "output_type": "execute_result"
    }
   ],
   "source": [
    "df.distinct().count()"
   ]
  },
  {
   "cell_type": "markdown",
   "id": "6192205e",
   "metadata": {},
   "source": [
    "## Selection and Filtering"
   ]
  },
  {
   "cell_type": "code",
   "execution_count": 8,
   "id": "f88a7fcb",
   "metadata": {},
   "outputs": [
    {
     "name": "stdout",
     "output_type": "stream",
     "text": [
      "+----------+----------+\n",
      "|first_name| last_name|\n",
      "+----------+----------+\n",
      "|   Melinde| Shilburne|\n",
      "|  Kimberly|Von Welden|\n",
      "|    Alvera|  Di Boldi|\n",
      "|   Shannon| O'Griffin|\n",
      "|  Sherwood|   Macieja|\n",
      "+----------+----------+\n",
      "only showing top 5 rows\n",
      "\n"
     ]
    }
   ],
   "source": [
    "df.select('first_name', 'last_name').show(5)"
   ]
  },
  {
   "cell_type": "code",
   "execution_count": 9,
   "id": "478e396e",
   "metadata": {},
   "outputs": [
    {
     "name": "stdout",
     "output_type": "stream",
     "text": [
      "+----------+-----+\n",
      "|first_name| name|\n",
      "+----------+-----+\n",
      "|   Melinde|Melin|\n",
      "|  Kimberly|Kimbe|\n",
      "|    Alvera|Alver|\n",
      "|   Shannon|Shann|\n",
      "|  Sherwood|Sherw|\n",
      "|     Maris|Maris|\n",
      "|     Masha|Masha|\n",
      "|   Goddart|Godda|\n",
      "|      Roth| Roth|\n",
      "|      Bran| Bran|\n",
      "|    Kylynn|Kylyn|\n",
      "|       Rey|  Rey|\n",
      "|      Kerr| Kerr|\n",
      "|    Mickie|Micki|\n",
      "|    Kaspar|Kaspa|\n",
      "|    Norbie|Norbi|\n",
      "|    Claude|Claud|\n",
      "|     Thain|Thain|\n",
      "|  Tiffanie|Tiffa|\n",
      "|    Ettore|Ettor|\n",
      "+----------+-----+\n",
      "only showing top 20 rows\n",
      "\n"
     ]
    }
   ],
   "source": [
    "df.select('first_name', df.first_name.substr(1,5).alias('name')).show()"
   ]
  },
  {
   "cell_type": "markdown",
   "id": "1a27860e",
   "metadata": {},
   "source": [
    "#### Rename existing Column"
   ]
  },
  {
   "cell_type": "code",
   "execution_count": 10,
   "id": "7894c04a",
   "metadata": {},
   "outputs": [
    {
     "name": "stdout",
     "output_type": "stream",
     "text": [
      "+---+--------+----------+------+-------------+--------------------+---------+---------+----------+\n",
      "| id|  f_name| last_name|gender|         City|            JobTitle|   Salary| Latitude| Longitude|\n",
      "+---+--------+----------+------+-------------+--------------------+---------+---------+----------+\n",
      "|  1| Melinde| Shilburne|Female|    Nowa Ruda| Assistant Professor|$57438.18|50.577408| 16.496717|\n",
      "|  2|Kimberly|Von Welden|Female|       Bulgan|       Programmer II|$62846.60| 48.82316| 103.52182|\n",
      "|  3|  Alvera|  Di Boldi|Female|         NULL|                NULL|$57576.52|39.994747|116.339775|\n",
      "|  4| Shannon| O'Griffin|  Male|Divnomorskoye|Budget/Accounting...|$61489.23|44.504723| 38.130016|\n",
      "|  5|Sherwood|   Macieja|  Male|    Mytishchi|            VP Sales|$63863.09|     NULL| 37.648994|\n",
      "+---+--------+----------+------+-------------+--------------------+---------+---------+----------+\n",
      "only showing top 5 rows\n",
      "\n"
     ]
    }
   ],
   "source": [
    "df.withColumnRenamed('first_name', 'f_name').show(5)"
   ]
  },
  {
   "cell_type": "markdown",
   "id": "4ee13b7a",
   "metadata": {},
   "source": [
    "#### Filter Data"
   ]
  },
  {
   "cell_type": "code",
   "execution_count": 11,
   "id": "604c5728",
   "metadata": {},
   "outputs": [
    {
     "name": "stdout",
     "output_type": "stream",
     "text": [
      "+---+----------+---------+------+----+--------+---------+---------+----------+\n",
      "| id|first_name|last_name|gender|City|JobTitle|   Salary| Latitude| Longitude|\n",
      "+---+----------+---------+------+----+--------+---------+---------+----------+\n",
      "|  3|    Alvera| Di Boldi|Female|NULL|    NULL|$57576.52|39.994747|116.339775|\n",
      "+---+----------+---------+------+----+--------+---------+---------+----------+\n",
      "\n"
     ]
    }
   ],
   "source": [
    "df.filter(df.first_name == 'Alvera').show(5)"
   ]
  },
  {
   "cell_type": "code",
   "execution_count": 12,
   "id": "4d3d63ce",
   "metadata": {},
   "outputs": [
    {
     "name": "stdout",
     "output_type": "stream",
     "text": [
      "+---+----------+-------------+------+--------------+--------------------+---------+----------+----------+\n",
      "| id|first_name|    last_name|gender|          City|            JobTitle|   Salary|  Latitude| Longitude|\n",
      "+---+----------+-------------+------+--------------+--------------------+---------+----------+----------+\n",
      "|  3|    Alvera|     Di Boldi|Female|          NULL|                NULL|$57576.52| 39.994747|116.339775|\n",
      "| 21|      Alon|     Chasteau|  Male|         Xin’e|     Web Developer I|$62755.85|  49.16291| 127.98658|\n",
      "| 81|     Alvin|        Doman|  Male|          Niny|Research Assistant I|$53258.86| 44.486843| 43.940807|\n",
      "|101|     Alene|          Odd|Female| María la Baja|Accounting Assist...|$37379.03|   9.91416| -75.41116|\n",
      "|115|    Allard|       Cordel|  Male|     Mieścisko|Compensation Analyst|$18907.81| 45.863018|  5.947966|\n",
      "|117|      Alli|      Mc Pake|Female|        Gerong|     Staff Scientist|$58172.73|-6.2002535| 106.82217|\n",
      "|160|     Alane|   Southworth|Female|     Eindhoven|Programmer Analyst I|$24042.10| 51.413155| 5.4852796|\n",
      "|193|    Alfons|    Dumbleton|  Male|         Shūsh|Research Assistan...|$88389.56| 32.195793| 48.254284|\n",
      "|244|      Alfy|      McGrale|  Male|        Domsjö|Mechanical System...|$79852.59| 63.266468| 18.628548|\n",
      "|276|   Alyosha|    Guerreiro|  Male|          Bile|               Nurse|$97909.88| 48.500492|  39.04895|\n",
      "|287|    Alexei|      Harriot|  Male|     Shangjing|    Junior Executive|$55711.38| 24.390594| 114.52239|\n",
      "|299|     Alley|  Brockington|  Male|     Balahovit|Community Outreac...|$74464.26| 40.254402| 44.602776|\n",
      "|347|   Allayne|        Dooly|  Male|    Kastornoye|  Help Desk Operator|$23794.18| 51.831543| 38.139458|\n",
      "|359|     Alyse|        Meese|Female|      Getengan|Safety Technician IV|$23843.06| -3.232554| 119.94849|\n",
      "|405|  Alasteir|      Sotheby|  Male|       Secunda|  Analyst Programmer|$21326.73| -26.51578| 29.191391|\n",
      "|429|Alessandro|      Shearer|  Male|Banjar Kelodan|            VP Sales|$51979.53|  -8.12334|115.338936|\n",
      "|501|   Almeria|      Turbern|Female|         Lanús| Structural Engineer|$86294.59|-34.667282| -58.61622|\n",
      "|534|     Albie|      Kettell|  Male|        Magugu|            VP Sales|$45042.14|-4.0003104| 35.778496|\n",
      "|655|   Alphard|        Sidey|  Male|      Linglong| Clinical Specialist|$94883.85|  37.36524| 120.44763|\n",
      "|722|    Alonso|        Gueny|  Male|        Gaopai|Administrative Of...|$14528.73| 25.487867| 115.61443|\n",
      "|742|     Aloin|        Niset|  Male|      Carreira| Marketing Assistant|$69829.64|  39.86517| -8.857121|\n",
      "|743|     Allix|    Kilgallen|Female|    Dahuangwei| Staff Accountant II|$66687.59| 39.534153|113.087105|\n",
      "|751|     Aland|      Seebert|  Male|           Oss| Software Engineer I|$40392.24|  51.76105|  5.551041|\n",
      "|774|    Alonso|       Dengel|  Male|        Gostyń|  Analyst Programmer|$34110.21|  51.90345| 16.955477|\n",
      "|775|   Alverta|     MacNulty|Female|    Megalópoli| Geological Engineer|$17299.62| 37.401245| 22.136488|\n",
      "|867|  Albrecht|        Grist|  Male|         Tambo|   Assistant Manager|$40264.91| 14.515532| 120.98129|\n",
      "|901|     Aldin|Matuszkiewicz|  Male|   East London|            Operator|$41468.83|-32.954933| 27.931913|\n",
      "|947|    Alexei|      Durston|  Male|         Zhuxi|     Cost Accountant|$15849.42| 32.318256|  109.7153|\n",
      "|986|      Alta|     Chaudhry|Female|    Tambakrejo|Accounting Assist...|$22750.50| -8.301091| 112.14898|\n",
      "+---+----------+-------------+------+--------------+--------------------+---------+----------+----------+\n",
      "\n"
     ]
    }
   ],
   "source": [
    "df.filter(df.first_name.like('Al%')).show(50)"
   ]
  },
  {
   "cell_type": "code",
   "execution_count": 13,
   "id": "d5a94d40",
   "metadata": {},
   "outputs": [
    {
     "name": "stdout",
     "output_type": "stream",
     "text": [
      "+---+----------+-------------+------+--------------+--------------------+---------+----------+----------+\n",
      "| id|first_name|    last_name|gender|          City|            JobTitle|   Salary|  Latitude| Longitude|\n",
      "+---+----------+-------------+------+--------------+--------------------+---------+----------+----------+\n",
      "|  3|    Alvera|     Di Boldi|Female|          NULL|                NULL|$57576.52| 39.994747|116.339775|\n",
      "| 21|      Alon|     Chasteau|  Male|         Xin’e|     Web Developer I|$62755.85|  49.16291| 127.98658|\n",
      "| 81|     Alvin|        Doman|  Male|          Niny|Research Assistant I|$53258.86| 44.486843| 43.940807|\n",
      "|101|     Alene|          Odd|Female| María la Baja|Accounting Assist...|$37379.03|   9.91416| -75.41116|\n",
      "|115|    Allard|       Cordel|  Male|     Mieścisko|Compensation Analyst|$18907.81| 45.863018|  5.947966|\n",
      "|117|      Alli|      Mc Pake|Female|        Gerong|     Staff Scientist|$58172.73|-6.2002535| 106.82217|\n",
      "|160|     Alane|   Southworth|Female|     Eindhoven|Programmer Analyst I|$24042.10| 51.413155| 5.4852796|\n",
      "|193|    Alfons|    Dumbleton|  Male|         Shūsh|Research Assistan...|$88389.56| 32.195793| 48.254284|\n",
      "|244|      Alfy|      McGrale|  Male|        Domsjö|Mechanical System...|$79852.59| 63.266468| 18.628548|\n",
      "|276|   Alyosha|    Guerreiro|  Male|          Bile|               Nurse|$97909.88| 48.500492|  39.04895|\n",
      "|287|    Alexei|      Harriot|  Male|     Shangjing|    Junior Executive|$55711.38| 24.390594| 114.52239|\n",
      "|299|     Alley|  Brockington|  Male|     Balahovit|Community Outreac...|$74464.26| 40.254402| 44.602776|\n",
      "|347|   Allayne|        Dooly|  Male|    Kastornoye|  Help Desk Operator|$23794.18| 51.831543| 38.139458|\n",
      "|359|     Alyse|        Meese|Female|      Getengan|Safety Technician IV|$23843.06| -3.232554| 119.94849|\n",
      "|405|  Alasteir|      Sotheby|  Male|       Secunda|  Analyst Programmer|$21326.73| -26.51578| 29.191391|\n",
      "|429|Alessandro|      Shearer|  Male|Banjar Kelodan|            VP Sales|$51979.53|  -8.12334|115.338936|\n",
      "|501|   Almeria|      Turbern|Female|         Lanús| Structural Engineer|$86294.59|-34.667282| -58.61622|\n",
      "|534|     Albie|      Kettell|  Male|        Magugu|            VP Sales|$45042.14|-4.0003104| 35.778496|\n",
      "|655|   Alphard|        Sidey|  Male|      Linglong| Clinical Specialist|$94883.85|  37.36524| 120.44763|\n",
      "|722|    Alonso|        Gueny|  Male|        Gaopai|Administrative Of...|$14528.73| 25.487867| 115.61443|\n",
      "|742|     Aloin|        Niset|  Male|      Carreira| Marketing Assistant|$69829.64|  39.86517| -8.857121|\n",
      "|743|     Allix|    Kilgallen|Female|    Dahuangwei| Staff Accountant II|$66687.59| 39.534153|113.087105|\n",
      "|751|     Aland|      Seebert|  Male|           Oss| Software Engineer I|$40392.24|  51.76105|  5.551041|\n",
      "|774|    Alonso|       Dengel|  Male|        Gostyń|  Analyst Programmer|$34110.21|  51.90345| 16.955477|\n",
      "|775|   Alverta|     MacNulty|Female|    Megalópoli| Geological Engineer|$17299.62| 37.401245| 22.136488|\n",
      "|867|  Albrecht|        Grist|  Male|         Tambo|   Assistant Manager|$40264.91| 14.515532| 120.98129|\n",
      "|901|     Aldin|Matuszkiewicz|  Male|   East London|            Operator|$41468.83|-32.954933| 27.931913|\n",
      "|947|    Alexei|      Durston|  Male|         Zhuxi|     Cost Accountant|$15849.42| 32.318256|  109.7153|\n",
      "|986|      Alta|     Chaudhry|Female|    Tambakrejo|Accounting Assist...|$22750.50| -8.301091| 112.14898|\n",
      "+---+----------+-------------+------+--------------+--------------------+---------+----------+----------+\n",
      "\n"
     ]
    }
   ],
   "source": [
    "df.filter(df.first_name.startswith('Al')).show(50)"
   ]
  },
  {
   "cell_type": "code",
   "execution_count": 14,
   "id": "012d1396",
   "metadata": {},
   "outputs": [
    {
     "name": "stdout",
     "output_type": "stream",
     "text": [
      "+---+----------+---------+------+-----------+--------------------+---------+----------+---------+\n",
      "| id|first_name|last_name|gender|       City|            JobTitle|   Salary|  Latitude|Longitude|\n",
      "+---+----------+---------+------+-----------+--------------------+---------+----------+---------+\n",
      "| 15|    Kaspar|    Pally|  Male|     Chrást|  Analyst Programmer|$40163.03|  49.79233|13.491532|\n",
      "| 76|  Jonathon|   Rielly|  Male|     Duzhou|Automation Specia...|$66832.92| 31.298973|120.58529|\n",
      "|214|      Edan|    Dealy|  Male|     Jandir| Safety Technician I|$90918.62|-6.9561844|113.98835|\n",
      "|347|   Allayne|    Dooly|  Male| Kastornoye|  Help Desk Operator|$23794.18| 51.831543|38.139458|\n",
      "|362|    Lianne| Sommerly|Female|    Tabālah|Software Test Eng...|$60641.75| 19.996937| 42.22638|\n",
      "|399| Silvester|   Hasely|  Male|     Tiaong|Research Assistan...|$75543.84| 13.943482|121.36913|\n",
      "|413|   Sherrie|    Siely|Female|       Arys|Senior Cost Accou...|$55981.21| 42.433853|68.812904|\n",
      "|548|Bartolomeo|   Hackly|  Male|    Xindian|   Account Executive|$57804.08|  37.10538|116.69436|\n",
      "|735|       Eal|  Goligly|  Male|Pétionville|      Civil Engineer|$89197.44| 18.513813|-72.28819|\n",
      "+---+----------+---------+------+-----------+--------------------+---------+----------+---------+\n",
      "\n"
     ]
    }
   ],
   "source": [
    "df.filter(df.last_name.endswith('ly')).show(50)"
   ]
  },
  {
   "cell_type": "code",
   "execution_count": 15,
   "id": "47e4e64c",
   "metadata": {},
   "outputs": [
    {
     "name": "stdout",
     "output_type": "stream",
     "text": [
      "+---+----------+---------+------+-----------+--------------------+---------+--------+----------+\n",
      "| id|first_name|last_name|gender|       City|            JobTitle|   Salary|Latitude| Longitude|\n",
      "+---+----------+---------+------+-----------+--------------------+---------+--------+----------+\n",
      "| 10|      Bran|  Trahear|  Male|   Arbeláez|Mechanical System...|$68098.42|4.272793|-74.416016|\n",
      "| 11|    Kylynn|  Lockart|Female|   El Cardo|Nuclear Power Eng...|$13604.63|   -5.85| -79.88333|\n",
      "| 12|       Rey|   Meharg|Female|Wangqingtuo|Systems Administr...|$73423.70|39.17238| 116.93161|\n",
      "| 13|      Kerr|   Braden|  Male|  Sułkowice|Compensation Analyst|$33432.99|49.81518| 19.377174|\n",
      "| 14|    Mickie|Whanstall|  Male|Springfield|Assistant Media P...|$50838.53|42.10148|-72.576675|\n",
      "| 15|    Kaspar|    Pally|  Male|     Chrást|  Analyst Programmer|$40163.03|49.79233| 13.491532|\n",
      "+---+----------+---------+------+-----------+--------------------+---------+--------+----------+\n",
      "\n"
     ]
    }
   ],
   "source": [
    "df.filter(df.id.between(10, 15)).show(50)"
   ]
  },
  {
   "cell_type": "code",
   "execution_count": 16,
   "id": "8ff9fe19",
   "metadata": {},
   "outputs": [
    {
     "name": "stdout",
     "output_type": "stream",
     "text": [
      "+---+----------+---------+------+-----------+--------------------+---------+--------+----------+\n",
      "| id|first_name|last_name|gender|       City|            JobTitle|   Salary|Latitude| Longitude|\n",
      "+---+----------+---------+------+-----------+--------------------+---------+--------+----------+\n",
      "| 10|      Bran|  Trahear|  Male|   Arbeláez|Mechanical System...|$68098.42|4.272793|-74.416016|\n",
      "| 11|    Kylynn|  Lockart|Female|   El Cardo|Nuclear Power Eng...|$13604.63|   -5.85| -79.88333|\n",
      "| 12|       Rey|   Meharg|Female|Wangqingtuo|Systems Administr...|$73423.70|39.17238| 116.93161|\n",
      "| 13|      Kerr|   Braden|  Male|  Sułkowice|Compensation Analyst|$33432.99|49.81518| 19.377174|\n",
      "| 14|    Mickie|Whanstall|  Male|Springfield|Assistant Media P...|$50838.53|42.10148|-72.576675|\n",
      "| 15|    Kaspar|    Pally|  Male|     Chrást|  Analyst Programmer|$40163.03|49.79233| 13.491532|\n",
      "+---+----------+---------+------+-----------+--------------------+---------+--------+----------+\n",
      "\n"
     ]
    }
   ],
   "source": [
    "df.filter((df.id >= 10) & (df.id <= 15)).show(50)"
   ]
  },
  {
   "cell_type": "code",
   "execution_count": 17,
   "id": "93f6b910",
   "metadata": {},
   "outputs": [
    {
     "name": "stdout",
     "output_type": "stream",
     "text": [
      "+---+----------+---------+------+-----------+--------------------+---------+---------+----------+\n",
      "| id|first_name|last_name|gender|       City|            JobTitle|   Salary| Latitude| Longitude|\n",
      "+---+----------+---------+------+-----------+--------------------+---------+---------+----------+\n",
      "|  3|    Alvera| Di Boldi|Female|       NULL|                NULL|$57576.52|39.994747|116.339775|\n",
      "| 12|       Rey|   Meharg|Female|Wangqingtuo|Systems Administr...|$73423.70| 39.17238| 116.93161|\n",
      "|925|       Rey|  Girardy|  Male|   Malishka|   Financial Analyst|$76783.48| 39.73761| 45.392582|\n",
      "+---+----------+---------+------+-----------+--------------------+---------+---------+----------+\n",
      "\n"
     ]
    }
   ],
   "source": [
    "df.filter(df.first_name.isin('Alvera', 'Lyndsey','Rey')).show(50)"
   ]
  },
  {
   "cell_type": "code",
   "execution_count": 18,
   "id": "ab2a7e68",
   "metadata": {},
   "outputs": [
    {
     "name": "stdout",
     "output_type": "stream",
     "text": [
      "+---+----------+---------+------+-----------+--------------------+---------+---------+----------+\n",
      "| id|first_name|last_name|gender|       City|            JobTitle|   Salary| Latitude| Longitude|\n",
      "+---+----------+---------+------+-----------+--------------------+---------+---------+----------+\n",
      "|  3|    Alvera| Di Boldi|Female|       NULL|                NULL|$57576.52|39.994747|116.339775|\n",
      "| 12|       Rey|   Meharg|Female|Wangqingtuo|Systems Administr...|$73423.70| 39.17238| 116.93161|\n",
      "|925|       Rey|  Girardy|  Male|   Malishka|   Financial Analyst|$76783.48| 39.73761| 45.392582|\n",
      "+---+----------+---------+------+-----------+--------------------+---------+---------+----------+\n",
      "\n"
     ]
    }
   ],
   "source": [
    "df.filter(df.first_name.isin('Alvera', 'Lyndsey','Rey')  | df.City.like('%uo')).show(50)"
   ]
  },
  {
   "cell_type": "markdown",
   "id": "24bdd828",
   "metadata": {},
   "source": [
    "## Null/Duplicate Handeling"
   ]
  },
  {
   "cell_type": "markdown",
   "id": "9efbe56f",
   "metadata": {},
   "source": [
    "#### Drop Duplicate"
   ]
  },
  {
   "cell_type": "code",
   "execution_count": 19,
   "id": "a00b4b0c",
   "metadata": {},
   "outputs": [
    {
     "data": {
      "text/plain": [
       "1000"
      ]
     },
     "execution_count": 19,
     "metadata": {},
     "output_type": "execute_result"
    }
   ],
   "source": [
    "df.dropDuplicates().count()"
   ]
  },
  {
   "cell_type": "markdown",
   "id": "6046bb93",
   "metadata": {},
   "source": [
    "#### Drop if null in any column"
   ]
  },
  {
   "cell_type": "code",
   "execution_count": 20,
   "id": "9a4d61d1",
   "metadata": {},
   "outputs": [
    {
     "name": "stdout",
     "output_type": "stream",
     "text": [
      "+---+----------+----------+------+---------------+----------------------------+---------+----------+----------+\n",
      "|id |first_name|last_name |gender|City           |JobTitle                    |Salary   |Latitude  |Longitude |\n",
      "+---+----------+----------+------+---------------+----------------------------+---------+----------+----------+\n",
      "|1  |Melinde   |Shilburne |Female|Nowa Ruda      |Assistant Professor         |$57438.18|50.577408 |16.496717 |\n",
      "|2  |Kimberly  |Von Welden|Female|Bulgan         |Programmer II               |$62846.60|48.82316  |103.52182 |\n",
      "|4  |Shannon   |O'Griffin |Male  |Divnomorskoye  |Budget/Accounting Analyst II|$61489.23|44.504723 |38.130016 |\n",
      "|6  |Maris     |Folk      |Female|Kinsealy-Drinan|Civil Engineer              |$30101.16|53.426613 |-6.1644998|\n",
      "|8  |Goddart   |Flear     |Male  |Trélissac      |Desktop Support Technician  |$46116.36|45.190517 |0.7423124 |\n",
      "|9  |Roth      |O'Cannavan|Male  |Heitan         |VP Product Management       |$73697.10|32.027935 |106.65711 |\n",
      "|10 |Bran      |Trahear   |Male  |Arbeláez       |Mechanical Systems Engineer |$68098.42|4.272793  |-74.416016|\n",
      "|11 |Kylynn    |Lockart   |Female|El Cardo       |Nuclear Power Engineer      |$13604.63|-5.85     |-79.88333 |\n",
      "|12 |Rey       |Meharg    |Female|Wangqingtuo    |Systems Administrator I     |$73423.70|39.17238  |116.93161 |\n",
      "|13 |Kerr      |Braden    |Male  |Sułkowice      |Compensation Analyst        |$33432.99|49.81518  |19.377174 |\n",
      "|14 |Mickie    |Whanstall |Male  |Springfield    |Assistant Media Planner     |$50838.53|42.10148  |-72.576675|\n",
      "|15 |Kaspar    |Pally     |Male  |Chrást         |Analyst Programmer          |$40163.03|49.79233  |13.491532 |\n",
      "|16 |Norbie    |Gwyllt    |Male  |Xijiao         |Editor                      |$32492.73|43.494576 |5.897802  |\n",
      "|17 |Claude    |Briant    |Female|Mieścisko      |Research Assistant II       |$51862.48|52.744167 |17.327864 |\n",
      "|18 |Thain     |Habbon    |Male  |Foros do Trapo |Design Engineer             |$42135.67|38.696247 |-8.709834 |\n",
      "|19 |Tiffanie  |Pattison  |Female|Jabungsisir    |Senior Financial Analyst    |$91925.08|-7.7232566|113.46868 |\n",
      "|20 |Ettore    |Gerriets  |Male  |Pedra          |Staff Accountant IV         |$73921.33|40.717205 |-8.3625145|\n",
      "|21 |Alon      |Chasteau  |Male  |Xin’e          |Web Developer I             |$62755.85|49.16291  |127.98658 |\n",
      "|22 |Guthrey   |Johnke    |Male  |Xijiao         |Developer I                 |$13708.03|40.757683 |23.134218 |\n",
      "|23 |Lurleen   |Janczak   |Female|Rozkishne      |Web Developer IV            |$29384.72|48.49028  |39.27122  |\n",
      "+---+----------+----------+------+---------------+----------------------------+---------+----------+----------+\n",
      "only showing top 20 rows\n",
      "\n"
     ]
    }
   ],
   "source": [
    "df.na.drop().show(truncate=False)"
   ]
  },
  {
   "cell_type": "markdown",
   "id": "85dc022b",
   "metadata": {},
   "source": [
    "#### If city is null, then set city to 'Unknown'"
   ]
  },
  {
   "cell_type": "code",
   "execution_count": 21,
   "id": "de2cb4b0",
   "metadata": {},
   "outputs": [
    {
     "name": "stdout",
     "output_type": "stream",
     "text": [
      "+---+----------+----------+------+---------------+--------------------+---------+----------+----------+---------------+\n",
      "| id|first_name| last_name|gender|           City|            JobTitle|   Salary|  Latitude| Longitude|         City_N|\n",
      "+---+----------+----------+------+---------------+--------------------+---------+----------+----------+---------------+\n",
      "|  1|   Melinde| Shilburne|Female|      Nowa Ruda| Assistant Professor|$57438.18| 50.577408| 16.496717|      Nowa Ruda|\n",
      "|  2|  Kimberly|Von Welden|Female|         Bulgan|       Programmer II|$62846.60|  48.82316| 103.52182|         Bulgan|\n",
      "|  3|    Alvera|  Di Boldi|Female|           NULL|                NULL|$57576.52| 39.994747|116.339775|        Unknown|\n",
      "|  4|   Shannon| O'Griffin|  Male|  Divnomorskoye|Budget/Accounting...|$61489.23| 44.504723| 38.130016|  Divnomorskoye|\n",
      "|  5|  Sherwood|   Macieja|  Male|      Mytishchi|            VP Sales|$63863.09|      NULL| 37.648994|      Mytishchi|\n",
      "|  6|     Maris|      Folk|Female|Kinsealy-Drinan|      Civil Engineer|$30101.16| 53.426613|-6.1644998|Kinsealy-Drinan|\n",
      "|  7|     Masha|    Divers|Female|         Dachun|                NULL|$25090.87| 24.879416|118.930115|         Dachun|\n",
      "|  8|   Goddart|     Flear|  Male|      Trélissac|Desktop Support T...|$46116.36| 45.190517| 0.7423124|      Trélissac|\n",
      "|  9|      Roth|O'Cannavan|  Male|         Heitan|VP Product Manage...|$73697.10| 32.027935| 106.65711|         Heitan|\n",
      "| 10|      Bran|   Trahear|  Male|       Arbeláez|Mechanical System...|$68098.42|  4.272793|-74.416016|       Arbeláez|\n",
      "| 11|    Kylynn|   Lockart|Female|       El Cardo|Nuclear Power Eng...|$13604.63|     -5.85| -79.88333|       El Cardo|\n",
      "| 12|       Rey|    Meharg|Female|    Wangqingtuo|Systems Administr...|$73423.70|  39.17238| 116.93161|    Wangqingtuo|\n",
      "| 13|      Kerr|    Braden|  Male|      Sułkowice|Compensation Analyst|$33432.99|  49.81518| 19.377174|      Sułkowice|\n",
      "| 14|    Mickie| Whanstall|  Male|    Springfield|Assistant Media P...|$50838.53|  42.10148|-72.576675|    Springfield|\n",
      "| 15|    Kaspar|     Pally|  Male|         Chrást|  Analyst Programmer|$40163.03|  49.79233| 13.491532|         Chrást|\n",
      "| 16|    Norbie|    Gwyllt|  Male|         Xijiao|              Editor|$32492.73| 43.494576|  5.897802|         Xijiao|\n",
      "| 17|    Claude|    Briant|Female|      Mieścisko|Research Assistan...|$51862.48| 52.744167| 17.327864|      Mieścisko|\n",
      "| 18|     Thain|    Habbon|  Male| Foros do Trapo|     Design Engineer|$42135.67| 38.696247| -8.709834| Foros do Trapo|\n",
      "| 19|  Tiffanie|  Pattison|Female|    Jabungsisir|Senior Financial ...|$91925.08|-7.7232566| 113.46868|    Jabungsisir|\n",
      "| 20|    Ettore|  Gerriets|  Male|          Pedra| Staff Accountant IV|$73921.33| 40.717205|-8.3625145|          Pedra|\n",
      "+---+----------+----------+------+---------------+--------------------+---------+----------+----------+---------------+\n",
      "only showing top 20 rows\n",
      "\n"
     ]
    }
   ],
   "source": [
    "from pyspark.sql.functions import *\n",
    "\n",
    "df_city = df.withColumn('City_N',when(df.City.isNull(),'Unknown').otherwise(df.City))\n",
    "df_city.show()"
   ]
  },
  {
   "cell_type": "markdown",
   "id": "a4b89054",
   "metadata": {},
   "source": [
    "### If the Job title is null, then delete the row"
   ]
  },
  {
   "cell_type": "code",
   "execution_count": 22,
   "id": "6b04e096",
   "metadata": {},
   "outputs": [
    {
     "name": "stdout",
     "output_type": "stream",
     "text": [
      "+---+----------+----------+------+---------------+--------------------+---------+----------+----------+\n",
      "| id|first_name| last_name|gender|           City|            JobTitle|   Salary|  Latitude| Longitude|\n",
      "+---+----------+----------+------+---------------+--------------------+---------+----------+----------+\n",
      "|  1|   Melinde| Shilburne|Female|      Nowa Ruda| Assistant Professor|$57438.18| 50.577408| 16.496717|\n",
      "|  2|  Kimberly|Von Welden|Female|         Bulgan|       Programmer II|$62846.60|  48.82316| 103.52182|\n",
      "|  4|   Shannon| O'Griffin|  Male|  Divnomorskoye|Budget/Accounting...|$61489.23| 44.504723| 38.130016|\n",
      "|  5|  Sherwood|   Macieja|  Male|      Mytishchi|            VP Sales|$63863.09|      NULL| 37.648994|\n",
      "|  6|     Maris|      Folk|Female|Kinsealy-Drinan|      Civil Engineer|$30101.16| 53.426613|-6.1644998|\n",
      "|  8|   Goddart|     Flear|  Male|      Trélissac|Desktop Support T...|$46116.36| 45.190517| 0.7423124|\n",
      "|  9|      Roth|O'Cannavan|  Male|         Heitan|VP Product Manage...|$73697.10| 32.027935| 106.65711|\n",
      "| 10|      Bran|   Trahear|  Male|       Arbeláez|Mechanical System...|$68098.42|  4.272793|-74.416016|\n",
      "| 11|    Kylynn|   Lockart|Female|       El Cardo|Nuclear Power Eng...|$13604.63|     -5.85| -79.88333|\n",
      "| 12|       Rey|    Meharg|Female|    Wangqingtuo|Systems Administr...|$73423.70|  39.17238| 116.93161|\n",
      "| 13|      Kerr|    Braden|  Male|      Sułkowice|Compensation Analyst|$33432.99|  49.81518| 19.377174|\n",
      "| 14|    Mickie| Whanstall|  Male|    Springfield|Assistant Media P...|$50838.53|  42.10148|-72.576675|\n",
      "| 15|    Kaspar|     Pally|  Male|         Chrást|  Analyst Programmer|$40163.03|  49.79233| 13.491532|\n",
      "| 16|    Norbie|    Gwyllt|  Male|         Xijiao|              Editor|$32492.73| 43.494576|  5.897802|\n",
      "| 17|    Claude|    Briant|Female|      Mieścisko|Research Assistan...|$51862.48| 52.744167| 17.327864|\n",
      "| 18|     Thain|    Habbon|  Male| Foros do Trapo|     Design Engineer|$42135.67| 38.696247| -8.709834|\n",
      "| 19|  Tiffanie|  Pattison|Female|    Jabungsisir|Senior Financial ...|$91925.08|-7.7232566| 113.46868|\n",
      "| 20|    Ettore|  Gerriets|  Male|          Pedra| Staff Accountant IV|$73921.33| 40.717205|-8.3625145|\n",
      "| 21|      Alon|  Chasteau|  Male|          Xin’e|     Web Developer I|$62755.85|  49.16291| 127.98658|\n",
      "| 22|   Guthrey|    Johnke|  Male|         Xijiao|         Developer I|$13708.03| 40.757683| 23.134218|\n",
      "+---+----------+----------+------+---------------+--------------------+---------+----------+----------+\n",
      "only showing top 20 rows\n",
      "\n"
     ]
    }
   ],
   "source": [
    "df_jt = df.filter(df.JobTitle.isNotNull())\n",
    "df_jt.show()"
   ]
  },
  {
   "cell_type": "markdown",
   "id": "495c576a",
   "metadata": {},
   "source": [
    "### If Salary is null then replace it with Average salary"
   ]
  },
  {
   "cell_type": "code",
   "execution_count": 23,
   "id": "8d3aecc3",
   "metadata": {},
   "outputs": [
    {
     "name": "stdout",
     "output_type": "stream",
     "text": [
      "55487.95562890625\n",
      "+---+----------+----------+------+---------------+--------------------+---------+----------+----------+----------+----------------+\n",
      "| id|first_name| last_name|gender|           City|            JobTitle|   Salary|  Latitude| Longitude|Salary_fix|      New_salary|\n",
      "+---+----------+----------+------+---------------+--------------------+---------+----------+----------+----------+----------------+\n",
      "|  1|   Melinde| Shilburne|Female|      Nowa Ruda| Assistant Professor|$57438.18| 50.577408| 16.496717|  57438.18|   57438.1796875|\n",
      "|  2|  Kimberly|Von Welden|Female|         Bulgan|       Programmer II|$62846.60|  48.82316| 103.52182|   62846.6|   62846.6015625|\n",
      "|  3|    Alvera|  Di Boldi|Female|           NULL|                NULL|$57576.52| 39.994747|116.339775|  57576.52|  57576.51953125|\n",
      "|  4|   Shannon| O'Griffin|  Male|  Divnomorskoye|Budget/Accounting...|$61489.23| 44.504723| 38.130016|  61489.23|  61489.23046875|\n",
      "|  5|  Sherwood|   Macieja|  Male|      Mytishchi|            VP Sales|$63863.09|      NULL| 37.648994|  63863.09|  63863.08984375|\n",
      "|  6|     Maris|      Folk|Female|Kinsealy-Drinan|      Civil Engineer|$30101.16| 53.426613|-6.1644998|  30101.16|  30101.16015625|\n",
      "|  7|     Masha|    Divers|Female|         Dachun|                NULL|$25090.87| 24.879416|118.930115|  25090.87| 25090.869140625|\n",
      "|  8|   Goddart|     Flear|  Male|      Trélissac|Desktop Support T...|$46116.36| 45.190517| 0.7423124|  46116.36|    46116.359375|\n",
      "|  9|      Roth|O'Cannavan|  Male|         Heitan|VP Product Manage...|$73697.10| 32.027935| 106.65711|   73697.1|   73697.1015625|\n",
      "| 10|      Bran|   Trahear|  Male|       Arbeláez|Mechanical System...|$68098.42|  4.272793|-74.416016|  68098.42|    68098.421875|\n",
      "| 11|    Kylynn|   Lockart|Female|       El Cardo|Nuclear Power Eng...|$13604.63|     -5.85| -79.88333|  13604.63|13604.6298828125|\n",
      "| 12|       Rey|    Meharg|Female|    Wangqingtuo|Systems Administr...|$73423.70|  39.17238| 116.93161|   73423.7|    73423.703125|\n",
      "| 13|      Kerr|    Braden|  Male|      Sułkowice|Compensation Analyst|$33432.99|  49.81518| 19.377174|  33432.99|  33432.98828125|\n",
      "| 14|    Mickie| Whanstall|  Male|    Springfield|Assistant Media P...|$50838.53|  42.10148|-72.576675|  50838.53|     50838.53125|\n",
      "| 15|    Kaspar|     Pally|  Male|         Chrást|  Analyst Programmer|$40163.03|  49.79233| 13.491532|  40163.03|     40163.03125|\n",
      "| 16|    Norbie|    Gwyllt|  Male|         Xijiao|              Editor|$32492.73| 43.494576|  5.897802|  32492.73|  32492.73046875|\n",
      "| 17|    Claude|    Briant|Female|      Mieścisko|Research Assistan...|$51862.48| 52.744167| 17.327864|  51862.48|  51862.48046875|\n",
      "| 18|     Thain|    Habbon|  Male| Foros do Trapo|     Design Engineer|$42135.67| 38.696247| -8.709834|  42135.67|    42135.671875|\n",
      "| 19|  Tiffanie|  Pattison|Female|    Jabungsisir|Senior Financial ...|$91925.08|-7.7232566| 113.46868|  91925.08|    91925.078125|\n",
      "| 20|    Ettore|  Gerriets|  Male|          Pedra| Staff Accountant IV|$73921.33| 40.717205|-8.3625145|  73921.33|    73921.328125|\n",
      "+---+----------+----------+------+---------------+--------------------+---------+----------+----------+----------+----------------+\n",
      "only showing top 20 rows\n",
      "\n"
     ]
    }
   ],
   "source": [
    "df_sal = df.withColumn('Salary_fix', df.Salary.substr(2,100).cast('float'))\n",
    "mean_salary = df_sal.groupBy().avg('Salary_fix').take(1)[0][0]\n",
    "print(mean_salary)\n",
    "df_sal = df_sal.withColumn('New_salary', when(df_sal.Salary_fix.isNull(),lit(mean_salary)).otherwise(df_sal.Salary_fix))\n",
    "\n",
    "df_sal.show()"
   ]
  },
  {
   "cell_type": "markdown",
   "id": "67001cf6",
   "metadata": {},
   "source": [
    "### Update the Latitude with Median where latitude value is missing/NULL"
   ]
  },
  {
   "cell_type": "code",
   "execution_count": 24,
   "id": "814c74b3",
   "metadata": {},
   "outputs": [
    {
     "name": "stdout",
     "output_type": "stream",
     "text": [
      "+----------+\n",
      "|Latitude_N|\n",
      "+----------+\n",
      "| 50.577408|\n",
      "|  48.82316|\n",
      "| 39.994747|\n",
      "| 44.504723|\n",
      "| 53.426613|\n",
      "| 24.879416|\n",
      "| 45.190517|\n",
      "| 32.027935|\n",
      "|  4.272793|\n",
      "|     -5.85|\n",
      "|  39.17238|\n",
      "|  49.81518|\n",
      "|  42.10148|\n",
      "|  49.79233|\n",
      "| 43.494576|\n",
      "| 52.744167|\n",
      "| 38.696247|\n",
      "|-7.7232566|\n",
      "| 40.717205|\n",
      "|  49.16291|\n",
      "+----------+\n",
      "only showing top 20 rows\n",
      "\n",
      "31.93397331237793\n",
      "+---+----------+----------+------+---------------+--------------------+---------+----------+----------+----------+----------------+------------------+\n",
      "| id|first_name| last_name|gender|           City|            JobTitle|   Salary|  Latitude| Longitude|Salary_fix|      New_salary|               lat|\n",
      "+---+----------+----------+------+---------------+--------------------+---------+----------+----------+----------+----------------+------------------+\n",
      "|  1|   Melinde| Shilburne|Female|      Nowa Ruda| Assistant Professor|$57438.18| 50.577408| 16.496717|  57438.18|   57438.1796875| 50.57740783691406|\n",
      "|  2|  Kimberly|Von Welden|Female|         Bulgan|       Programmer II|$62846.60|  48.82316| 103.52182|   62846.6|   62846.6015625|48.823158264160156|\n",
      "|  3|    Alvera|  Di Boldi|Female|           NULL|                NULL|$57576.52| 39.994747|116.339775|  57576.52|  57576.51953125|39.994747161865234|\n",
      "|  4|   Shannon| O'Griffin|  Male|  Divnomorskoye|Budget/Accounting...|$61489.23| 44.504723| 38.130016|  61489.23|  61489.23046875|44.504722595214844|\n",
      "|  5|  Sherwood|   Macieja|  Male|      Mytishchi|            VP Sales|$63863.09|      NULL| 37.648994|  63863.09|  63863.08984375| 31.93397331237793|\n",
      "|  6|     Maris|      Folk|Female|Kinsealy-Drinan|      Civil Engineer|$30101.16| 53.426613|-6.1644998|  30101.16|  30101.16015625|53.426612854003906|\n",
      "|  7|     Masha|    Divers|Female|         Dachun|                NULL|$25090.87| 24.879416|118.930115|  25090.87| 25090.869140625| 24.87941551208496|\n",
      "|  8|   Goddart|     Flear|  Male|      Trélissac|Desktop Support T...|$46116.36| 45.190517| 0.7423124|  46116.36|    46116.359375| 45.19051742553711|\n",
      "|  9|      Roth|O'Cannavan|  Male|         Heitan|VP Product Manage...|$73697.10| 32.027935| 106.65711|   73697.1|   73697.1015625| 32.02793502807617|\n",
      "| 10|      Bran|   Trahear|  Male|       Arbeláez|Mechanical System...|$68098.42|  4.272793|-74.416016|  68098.42|    68098.421875| 4.272792816162109|\n",
      "| 11|    Kylynn|   Lockart|Female|       El Cardo|Nuclear Power Eng...|$13604.63|     -5.85| -79.88333|  13604.63|13604.6298828125|-5.849999904632568|\n",
      "| 12|       Rey|    Meharg|Female|    Wangqingtuo|Systems Administr...|$73423.70|  39.17238| 116.93161|   73423.7|    73423.703125| 39.17237854003906|\n",
      "| 13|      Kerr|    Braden|  Male|      Sułkowice|Compensation Analyst|$33432.99|  49.81518| 19.377174|  33432.99|  33432.98828125|49.815181732177734|\n",
      "| 14|    Mickie| Whanstall|  Male|    Springfield|Assistant Media P...|$50838.53|  42.10148|-72.576675|  50838.53|     50838.53125|42.101478576660156|\n",
      "| 15|    Kaspar|     Pally|  Male|         Chrást|  Analyst Programmer|$40163.03|  49.79233| 13.491532|  40163.03|     40163.03125| 49.79233169555664|\n",
      "| 16|    Norbie|    Gwyllt|  Male|         Xijiao|              Editor|$32492.73| 43.494576|  5.897802|  32492.73|  32492.73046875| 43.49457550048828|\n",
      "| 17|    Claude|    Briant|Female|      Mieścisko|Research Assistan...|$51862.48| 52.744167| 17.327864|  51862.48|  51862.48046875| 52.74416732788086|\n",
      "| 18|     Thain|    Habbon|  Male| Foros do Trapo|     Design Engineer|$42135.67| 38.696247| -8.709834|  42135.67|    42135.671875| 38.69624710083008|\n",
      "| 19|  Tiffanie|  Pattison|Female|    Jabungsisir|Senior Financial ...|$91925.08|-7.7232566| 113.46868|  91925.08|    91925.078125|-7.723256587982178|\n",
      "| 20|    Ettore|  Gerriets|  Male|          Pedra| Staff Accountant IV|$73921.33| 40.717205|-8.3625145|  73921.33|    73921.328125| 40.71720504760742|\n",
      "+---+----------+----------+------+---------------+--------------------+---------+----------+----------+----------+----------------+------------------+\n",
      "only showing top 20 rows\n",
      "\n"
     ]
    }
   ],
   "source": [
    "latitude = df_sal.select('Latitude')\n",
    "\n",
    "latitude = latitude.filter(latitude.Latitude.isNotNull())\n",
    "\n",
    "latitude = latitude.withColumn('Latitude_N', latitude.Latitude.cast('float')).select('Latitude_N')\n",
    "\n",
    "latitude.show()\n",
    "\n",
    "import numpy as np\n",
    "\n",
    "median = np.median(latitude.collect())\n",
    "print(median)\n",
    "\n",
    "df_sal =df_sal.withColumn('lat', when(df_sal.Latitude.isNull(), lit(median)).otherwise(df_sal.Latitude))\n",
    "df_sal.show()"
   ]
  },
  {
   "cell_type": "markdown",
   "id": "cf7d4d60",
   "metadata": {},
   "source": [
    "#### By Job Title , Men & women get paid on average"
   ]
  },
  {
   "cell_type": "code",
   "execution_count": 25,
   "id": "c68840ec",
   "metadata": {},
   "outputs": [
    {
     "name": "stdout",
     "output_type": "stream",
     "text": [
      "+------+-----------------+\n",
      "|gender|       avg_salary|\n",
      "+------+-----------------+\n",
      "|Female|55618.94298820185|\n",
      "|  Male|55361.09385573019|\n",
      "+------+-----------------+\n",
      "\n"
     ]
    }
   ],
   "source": [
    "\n",
    "genders = df_sal.groupBy(df_sal.gender).agg(avg(df_sal.New_salary).alias('avg_salary'))\n",
    "\n",
    "genders.show()"
   ]
  },
  {
   "cell_type": "markdown",
   "id": "5dcb374a",
   "metadata": {},
   "source": [
    "#### Per Job-role who get paid more gender wise"
   ]
  },
  {
   "cell_type": "code",
   "execution_count": 26,
   "id": "5bd24909",
   "metadata": {},
   "outputs": [
    {
     "name": "stdout",
     "output_type": "stream",
     "text": [
      "+-----------------------------+------------------+------------------+-------------------+\n",
      "|JobTitle                     |avg_female_sal    |avg_male_sal      |delta              |\n",
      "+-----------------------------+------------------+------------------+-------------------+\n",
      "|Systems Administrator II     |50590.474609375   |15540.9501953125  |35049.5244140625   |\n",
      "|Media Manager III            |29586.436197916668|17381.920572916668|12204.515625       |\n",
      "|Recruiting Manager           |34848.452473958336|26383.4951171875  |8464.957356770836  |\n",
      "|Geologist III                |31749.046875      |12830.75390625    |18918.29296875     |\n",
      "|Geologist II                 |0.0               |43293.865234375   |-43293.865234375   |\n",
      "|Database Administrator IV    |0.0               |52018.4609375     |-52018.4609375     |\n",
      "|Financial Analyst            |23353.776953125   |39606.05625       |-16252.279296875   |\n",
      "|Analyst Programmer           |16406.1287109375  |21042.9634765625  |-4636.834765625001 |\n",
      "|Software Engineer II         |0.0               |74782.640625      |-74782.640625      |\n",
      "|Accountant IV                |82732.248046875   |0.0               |82732.248046875    |\n",
      "|Product Engineer             |41825.48359375    |20464.94375       |21360.539843750004 |\n",
      "|Software Test Engineer II    |32218.6083984375  |27122.462890625   |5096.1455078125    |\n",
      "|Safety Technician III        |0.0               |29421.529296875   |-29421.529296875   |\n",
      "|Junior Executive             |15752.220052083334|49510.330729166664|-33758.11067708333 |\n",
      "|Systems Administrator III    |77059.21875       |0.0               |77059.21875        |\n",
      "|Human Resources Assistant III|24022.662109375   |16609.27783203125 |7413.38427734375   |\n",
      "|VP Marketing                 |7981.178385416667 |52844.534830729164|-44863.3564453125  |\n",
      "|Environmental Tech           |13706.980143229166|45660.890625      |-31953.910481770836|\n",
      "|Mechanical Systems Engineer  |31370.781901041668|44321.593098958336|-12950.811197916668|\n",
      "|Assistant Professor          |22175.953515625   |26912.770703125   |-4736.817187500001 |\n",
      "+-----------------------------+------------------+------------------+-------------------+\n",
      "only showing top 20 rows\n",
      "\n"
     ]
    }
   ],
   "source": [
    "df_new = df_sal.withColumn('female_sal', when(df_sal.gender == 'Female', df_sal.New_salary).otherwise(lit(0)))\n",
    "df_final = df_new.withColumn('male_sal', when(df_new.gender == 'Male', df_new.New_salary).otherwise(lit(0)))\n",
    "\n",
    "df_agg = df_final.groupBy(df_final.JobTitle).agg(avg(\"female_sal\").alias('avg_female_sal'), avg(df_final.male_sal).alias('avg_male_sal'))\n",
    "df_agg = df_agg.withColumn('delta', df_agg.avg_female_sal - df_agg.avg_male_sal)\n",
    "df_agg.show(truncate=False)"
   ]
  },
  {
   "cell_type": "markdown",
   "id": "4b44aaa7",
   "metadata": {},
   "source": [
    "#### Which city have highest average salary"
   ]
  },
  {
   "cell_type": "code",
   "execution_count": 27,
   "id": "f04876c9",
   "metadata": {},
   "outputs": [
    {
     "name": "stdout",
     "output_type": "stream",
     "text": [
      "+-----------------+---------------+\n",
      "|             City|avg_city_salary|\n",
      "+-----------------+---------------+\n",
      "|        Mesopotam|    99948.28125|\n",
      "|       Zhongcheng|   99942.921875|\n",
      "|           Caxias|  99786.3984375|\n",
      "|      Karangtawar|  99638.9921875|\n",
      "|        Itabaiana|    99502.15625|\n",
      "|           Pasian|    99421.34375|\n",
      "|           Webuye|   99368.546875|\n",
      "|      Yuktae-dong|   99250.828125|\n",
      "|           Zinder|    99222.84375|\n",
      "|   Timiryazevskiy|     99142.9375|\n",
      "|        Sawahbaru|  99013.7109375|\n",
      "|          Madimba|  98737.8671875|\n",
      "|         Huangshi|    98690.34375|\n",
      "|          Gharyan|     98679.3125|\n",
      "|         Yŏnan-ŭp|   98628.609375|\n",
      "|     Wringinputih|  98603.8203125|\n",
      "|Monte da Boavista|    98586.71875|\n",
      "|          Klukeng|  98439.4921875|\n",
      "|         Murmashi|    98226.15625|\n",
      "|        Fox Creek|        98138.0|\n",
      "+-----------------+---------------+\n",
      "only showing top 20 rows\n",
      "\n"
     ]
    }
   ],
   "source": [
    "city_avg = df_sal.groupBy('City').agg(avg('New_salary').alias('avg_city_salary')).orderBy('avg_city_salary', ascending=False)\n",
    "city_avg = city_avg.sort(col('avg_city_salary').desc())\n",
    "city_avg.show()"
   ]
  },
  {
   "cell_type": "markdown",
   "id": "f8d6e582",
   "metadata": {},
   "source": [
    "## Running SQL"
   ]
  },
  {
   "cell_type": "code",
   "execution_count": 28,
   "id": "be7468fd",
   "metadata": {},
   "outputs": [
    {
     "name": "stdout",
     "output_type": "stream",
     "text": [
      "+---+----------+----------+------+--------------------+--------------------+---------+----------+----------+\n",
      "| id|first_name| last_name|gender|                City|            JobTitle|   Salary|  Latitude| Longitude|\n",
      "+---+----------+----------+------+--------------------+--------------------+---------+----------+----------+\n",
      "|  5|  Sherwood|   Macieja|  Male|           Mytishchi|            VP Sales|$63863.09|      NULL| 37.648994|\n",
      "|  7|     Masha|    Divers|Female|              Dachun|                NULL|$25090.87| 24.879416|118.930115|\n",
      "| 31|      Neda|      Krop|Female|    Ubon Ratchathani| Software Consultant|$48945.40| 15.247888| 104.87645|\n",
      "| 52|      Seth|   Gosnell|  Male|              Ovruch|  Nurse Practicioner|$40880.00|  51.32683| 28.802896|\n",
      "| 85|   Gothart|    Olivey|  Male|          Zhongcheng|Assistant Media P...|$99942.92| 22.356083| 112.56237|\n",
      "| 92|    Lorene|    Loines|Female|           Michałowo|       Senior Editor|$36636.17| 53.032936| 23.606218|\n",
      "|136|    Kellby| Hamprecht|  Male|         Horodyshche|Chief Design Engi...|$23203.43| 49.291775| 31.446533|\n",
      "|225|  Annmarie| Simionato|Female|           Suchy Las|     Health Coach II|$61517.64|  52.51254| 16.839527|\n",
      "|238|     Verne|   Quinion|  Male|Schiedam postbusn...|Structural Analys...|$25602.20|    51.883|    4.3577|\n",
      "|270|   Candace|   Lukesch|Female|             Mompach| Structural Engineer|$83840.06|  49.75145| 6.4641647|\n",
      "|290|   Parnell| Ridehalgh|  Male|            Michałów|Payment Adjustmen...|$52960.88|  50.48972| 20.449179|\n",
      "|291|     Tarra|  Iggulden|Female|          Bamencheng|           Librarian|$15755.36| 33.347317| 120.16366|\n",
      "|295|  Maureene|   Prebble|Female|            Pyshchug| Geological Engineer|$22658.32|  58.88826| 45.709457|\n",
      "|320|     Eugen|     Dakin|  Male|        Chincha Baja| Geological Engineer|$43872.69| -13.49196| -76.16678|\n",
      "|331|    Bartel|   Burgill|  Male|           Kolochava|     Staff Scientist|$51590.58| 48.418022| 23.737112|\n",
      "|381|      Lulu|  Culligan|Female|           Il’ichëvo|      Tax Accountant|$43503.56|  60.26808|   29.7523|\n",
      "|391|     Verge|  Hefferan|  Male|          Cocachacra|Community Outreac...|$90391.71|-17.091843| -71.77114|\n",
      "|420|  Tabbatha|  Du Hamel|Female|          Ichinoseki|Research Assistan...|$78954.92|  38.53701| 140.85446|\n",
      "|421|    Emmett|Ellingford|  Male|             Rychtal|Automation Specia...|$90030.35|  51.16102| 17.904583|\n",
      "|428|   Pernell|   Fossitt|  Male|           Wangchang|    Graphic Designer|$36927.53| 40.401047|  117.9989|\n",
      "+---+----------+----------+------+--------------------+--------------------+---------+----------+----------+\n",
      "only showing top 20 rows\n",
      "\n"
     ]
    }
   ],
   "source": [
    "df.createOrReplaceTempView('people')\n",
    "spark.sql('select * from people where City like \"%ch%\"').show()"
   ]
  }
 ],
 "metadata": {
  "kernelspec": {
   "display_name": "Python 3",
   "language": "python",
   "name": "python3"
  },
  "language_info": {
   "codemirror_mode": {
    "name": "ipython",
    "version": 3
   },
   "file_extension": ".py",
   "mimetype": "text/x-python",
   "name": "python",
   "nbconvert_exporter": "python",
   "pygments_lexer": "ipython3",
   "version": "3.10.11"
  }
 },
 "nbformat": 4,
 "nbformat_minor": 5
}

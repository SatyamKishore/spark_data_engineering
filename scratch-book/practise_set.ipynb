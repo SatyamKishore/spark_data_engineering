{
 "cells": [
  {
   "cell_type": "markdown",
   "id": "bcbec3d7",
   "metadata": {},
   "source": [
    "#### Start a simple Spark Session"
   ]
  },
  {
   "cell_type": "code",
   "execution_count": 1,
   "id": "a13acd3e",
   "metadata": {},
   "outputs": [],
   "source": [
    "from pyspark.sql import SparkSession\n",
    "spark = SparkSession.builder.appName(\"example\").getOrCreate()"
   ]
  },
  {
   "cell_type": "markdown",
   "id": "4fc1068e",
   "metadata": {},
   "source": [
    "#### Read the CSV"
   ]
  },
  {
   "cell_type": "code",
   "execution_count": 2,
   "id": "dcce038f",
   "metadata": {},
   "outputs": [],
   "source": [
    "df = spark.read.csv('../data/original.csv', header=True, inferSchema=True)"
   ]
  },
  {
   "cell_type": "markdown",
   "id": "85dc022b",
   "metadata": {},
   "source": [
    "#### If city is null, then set city to 'Unknown'"
   ]
  },
  {
   "cell_type": "code",
   "execution_count": 3,
   "id": "de2cb4b0",
   "metadata": {},
   "outputs": [
    {
     "name": "stdout",
     "output_type": "stream",
     "text": [
      "+---+----------+----------+------+---------------+--------------------+---------+----------+-----------+---------------+\n",
      "| id|first_name| last_name|gender|           City|            JobTitle|   Salary|  Latitude|  Longitude|         City_N|\n",
      "+---+----------+----------+------+---------------+--------------------+---------+----------+-----------+---------------+\n",
      "|  1|   Melinde| Shilburne|Female|      Nowa Ruda| Assistant Professor|$57438.18|50.5774075| 16.4967184|      Nowa Ruda|\n",
      "|  2|  Kimberly|Von Welden|Female|         Bulgan|       Programmer II|$62846.60|48.8231572|103.5218199|         Bulgan|\n",
      "|  3|    Alvera|  Di Boldi|Female|           NULL|                NULL|$57576.52|39.9947462|116.3397725|        Unknown|\n",
      "|  4|   Shannon| O'Griffin|  Male|  Divnomorskoye|Budget/Accounting...|$61489.23|44.5047212| 38.1300171|  Divnomorskoye|\n",
      "|  5|  Sherwood|   Macieja|  Male|      Mytishchi|            VP Sales|$63863.09|      NULL| 37.6489954|      Mytishchi|\n",
      "|  6|     Maris|      Folk|Female|Kinsealy-Drinan|      Civil Engineer|$30101.16|53.4266145| -6.1644997|Kinsealy-Drinan|\n",
      "|  7|     Masha|    Divers|Female|         Dachun|                NULL|$25090.87| 24.879416| 118.930111|         Dachun|\n",
      "|  8|   Goddart|     Flear|  Male|      Trélissac|Desktop Support T...|$46116.36|45.1905186|  0.7423124|      Trélissac|\n",
      "|  9|      Roth|O'Cannavan|  Male|         Heitan|VP Product Manage...|$73697.10| 32.027934| 106.657113|         Heitan|\n",
      "| 10|      Bran|   Trahear|  Male|       Arbeláez|Mechanical System...|$68098.42|  4.272793| -74.416014|       Arbeláez|\n",
      "| 11|    Kylynn|   Lockart|Female|       El Cardo|Nuclear Power Eng...|$13604.63|     -5.85|-79.8833329|       El Cardo|\n",
      "| 12|       Rey|    Meharg|Female|    Wangqingtuo|Systems Administr...|$73423.70| 39.172378| 116.931607|    Wangqingtuo|\n",
      "| 13|      Kerr|    Braden|  Male|      Sułkowice|Compensation Analyst|$33432.99|49.8151822| 19.3771749|      Sułkowice|\n",
      "| 14|    Mickie| Whanstall|  Male|    Springfield|Assistant Media P...|$50838.53|42.1014803|-72.5766759|    Springfield|\n",
      "| 15|    Kaspar|     Pally|  Male|         Chrást|  Analyst Programmer|$40163.03|49.7923299| 13.4915324|         Chrást|\n",
      "| 16|    Norbie|    Gwyllt|  Male|         Xijiao|              Editor|$32492.73|43.4945737|  5.8978018|         Xijiao|\n",
      "| 17|    Claude|    Briant|Female|      Mieścisko|Research Assistan...|$51862.48|52.7441662| 17.3278637|      Mieścisko|\n",
      "| 18|     Thain|    Habbon|  Male| Foros do Trapo|     Design Engineer|$42135.67| 38.696249| -8.7098337| Foros do Trapo|\n",
      "| 19|  Tiffanie|  Pattison|Female|    Jabungsisir|Senior Financial ...|$91925.08|-7.7232567|113.4686802|    Jabungsisir|\n",
      "| 20|    Ettore|  Gerriets|  Male|          Pedra| Staff Accountant IV|$73921.33|40.7172049| -8.3625148|          Pedra|\n",
      "+---+----------+----------+------+---------------+--------------------+---------+----------+-----------+---------------+\n",
      "only showing top 20 rows\n",
      "\n"
     ]
    }
   ],
   "source": [
    "from pyspark.sql.functions import *\n",
    "\n",
    "df_city = df.withColumn('City_N',when(df.City.isNull(),'Unknown').otherwise(df.City))\n",
    "df_city.show()"
   ]
  },
  {
   "cell_type": "markdown",
   "id": "a4b89054",
   "metadata": {},
   "source": [
    "### If the Job title is null, then delete the row"
   ]
  },
  {
   "cell_type": "code",
   "execution_count": 4,
   "id": "6b04e096",
   "metadata": {},
   "outputs": [
    {
     "name": "stdout",
     "output_type": "stream",
     "text": [
      "+---+----------+----------+------+---------------+--------------------+---------+----------+-----------+\n",
      "| id|first_name| last_name|gender|           City|            JobTitle|   Salary|  Latitude|  Longitude|\n",
      "+---+----------+----------+------+---------------+--------------------+---------+----------+-----------+\n",
      "|  1|   Melinde| Shilburne|Female|      Nowa Ruda| Assistant Professor|$57438.18|50.5774075| 16.4967184|\n",
      "|  2|  Kimberly|Von Welden|Female|         Bulgan|       Programmer II|$62846.60|48.8231572|103.5218199|\n",
      "|  4|   Shannon| O'Griffin|  Male|  Divnomorskoye|Budget/Accounting...|$61489.23|44.5047212| 38.1300171|\n",
      "|  5|  Sherwood|   Macieja|  Male|      Mytishchi|            VP Sales|$63863.09|      NULL| 37.6489954|\n",
      "|  6|     Maris|      Folk|Female|Kinsealy-Drinan|      Civil Engineer|$30101.16|53.4266145| -6.1644997|\n",
      "|  8|   Goddart|     Flear|  Male|      Trélissac|Desktop Support T...|$46116.36|45.1905186|  0.7423124|\n",
      "|  9|      Roth|O'Cannavan|  Male|         Heitan|VP Product Manage...|$73697.10| 32.027934| 106.657113|\n",
      "| 10|      Bran|   Trahear|  Male|       Arbeláez|Mechanical System...|$68098.42|  4.272793| -74.416014|\n",
      "| 11|    Kylynn|   Lockart|Female|       El Cardo|Nuclear Power Eng...|$13604.63|     -5.85|-79.8833329|\n",
      "| 12|       Rey|    Meharg|Female|    Wangqingtuo|Systems Administr...|$73423.70| 39.172378| 116.931607|\n",
      "| 13|      Kerr|    Braden|  Male|      Sułkowice|Compensation Analyst|$33432.99|49.8151822| 19.3771749|\n",
      "| 14|    Mickie| Whanstall|  Male|    Springfield|Assistant Media P...|$50838.53|42.1014803|-72.5766759|\n",
      "| 15|    Kaspar|     Pally|  Male|         Chrást|  Analyst Programmer|$40163.03|49.7923299| 13.4915324|\n",
      "| 16|    Norbie|    Gwyllt|  Male|         Xijiao|              Editor|$32492.73|43.4945737|  5.8978018|\n",
      "| 17|    Claude|    Briant|Female|      Mieścisko|Research Assistan...|$51862.48|52.7441662| 17.3278637|\n",
      "| 18|     Thain|    Habbon|  Male| Foros do Trapo|     Design Engineer|$42135.67| 38.696249| -8.7098337|\n",
      "| 19|  Tiffanie|  Pattison|Female|    Jabungsisir|Senior Financial ...|$91925.08|-7.7232567|113.4686802|\n",
      "| 20|    Ettore|  Gerriets|  Male|          Pedra| Staff Accountant IV|$73921.33|40.7172049| -8.3625148|\n",
      "| 21|      Alon|  Chasteau|  Male|          Xin’e|     Web Developer I|$62755.85|  49.16291|  127.98658|\n",
      "| 22|   Guthrey|    Johnke|  Male|         Xijiao|         Developer I|$13708.03|40.7576842| 23.1342184|\n",
      "+---+----------+----------+------+---------------+--------------------+---------+----------+-----------+\n",
      "only showing top 20 rows\n",
      "\n"
     ]
    }
   ],
   "source": [
    "df_jt = df.filter(df.JobTitle.isNotNull())\n",
    "df_jt.show()"
   ]
  },
  {
   "cell_type": "markdown",
   "id": "495c576a",
   "metadata": {},
   "source": [
    "### If Salary is null then replace it with Average salary"
   ]
  },
  {
   "cell_type": "code",
   "execution_count": 5,
   "id": "8d3aecc3",
   "metadata": {},
   "outputs": [
    {
     "name": "stdout",
     "output_type": "stream",
     "text": [
      "55487.95562890625\n",
      "+---+----------+----------+------+---------------+--------------------+---------+----------+-----------+----------+----------------+\n",
      "| id|first_name| last_name|gender|           City|            JobTitle|   Salary|  Latitude|  Longitude|Salary_fix|      New_salary|\n",
      "+---+----------+----------+------+---------------+--------------------+---------+----------+-----------+----------+----------------+\n",
      "|  1|   Melinde| Shilburne|Female|      Nowa Ruda| Assistant Professor|$57438.18|50.5774075| 16.4967184|  57438.18|   57438.1796875|\n",
      "|  2|  Kimberly|Von Welden|Female|         Bulgan|       Programmer II|$62846.60|48.8231572|103.5218199|   62846.6|   62846.6015625|\n",
      "|  3|    Alvera|  Di Boldi|Female|           NULL|                NULL|$57576.52|39.9947462|116.3397725|  57576.52|  57576.51953125|\n",
      "|  4|   Shannon| O'Griffin|  Male|  Divnomorskoye|Budget/Accounting...|$61489.23|44.5047212| 38.1300171|  61489.23|  61489.23046875|\n",
      "|  5|  Sherwood|   Macieja|  Male|      Mytishchi|            VP Sales|$63863.09|      NULL| 37.6489954|  63863.09|  63863.08984375|\n",
      "|  6|     Maris|      Folk|Female|Kinsealy-Drinan|      Civil Engineer|$30101.16|53.4266145| -6.1644997|  30101.16|  30101.16015625|\n",
      "|  7|     Masha|    Divers|Female|         Dachun|                NULL|$25090.87| 24.879416| 118.930111|  25090.87| 25090.869140625|\n",
      "|  8|   Goddart|     Flear|  Male|      Trélissac|Desktop Support T...|$46116.36|45.1905186|  0.7423124|  46116.36|    46116.359375|\n",
      "|  9|      Roth|O'Cannavan|  Male|         Heitan|VP Product Manage...|$73697.10| 32.027934| 106.657113|   73697.1|   73697.1015625|\n",
      "| 10|      Bran|   Trahear|  Male|       Arbeláez|Mechanical System...|$68098.42|  4.272793| -74.416014|  68098.42|    68098.421875|\n",
      "| 11|    Kylynn|   Lockart|Female|       El Cardo|Nuclear Power Eng...|$13604.63|     -5.85|-79.8833329|  13604.63|13604.6298828125|\n",
      "| 12|       Rey|    Meharg|Female|    Wangqingtuo|Systems Administr...|$73423.70| 39.172378| 116.931607|   73423.7|    73423.703125|\n",
      "| 13|      Kerr|    Braden|  Male|      Sułkowice|Compensation Analyst|$33432.99|49.8151822| 19.3771749|  33432.99|  33432.98828125|\n",
      "| 14|    Mickie| Whanstall|  Male|    Springfield|Assistant Media P...|$50838.53|42.1014803|-72.5766759|  50838.53|     50838.53125|\n",
      "| 15|    Kaspar|     Pally|  Male|         Chrást|  Analyst Programmer|$40163.03|49.7923299| 13.4915324|  40163.03|     40163.03125|\n",
      "| 16|    Norbie|    Gwyllt|  Male|         Xijiao|              Editor|$32492.73|43.4945737|  5.8978018|  32492.73|  32492.73046875|\n",
      "| 17|    Claude|    Briant|Female|      Mieścisko|Research Assistan...|$51862.48|52.7441662| 17.3278637|  51862.48|  51862.48046875|\n",
      "| 18|     Thain|    Habbon|  Male| Foros do Trapo|     Design Engineer|$42135.67| 38.696249| -8.7098337|  42135.67|    42135.671875|\n",
      "| 19|  Tiffanie|  Pattison|Female|    Jabungsisir|Senior Financial ...|$91925.08|-7.7232567|113.4686802|  91925.08|    91925.078125|\n",
      "| 20|    Ettore|  Gerriets|  Male|          Pedra| Staff Accountant IV|$73921.33|40.7172049| -8.3625148|  73921.33|    73921.328125|\n",
      "+---+----------+----------+------+---------------+--------------------+---------+----------+-----------+----------+----------------+\n",
      "only showing top 20 rows\n",
      "\n"
     ]
    }
   ],
   "source": [
    "df_sal = df.withColumn('Salary_fix', df.Salary.substr(2,100).cast('float'))\n",
    "mean_salary = df_sal.groupBy().avg('Salary_fix').take(1)[0][0]\n",
    "print(mean_salary)\n",
    "df_sal = df_sal.withColumn('New_salary', when(df_sal.Salary_fix.isNull(),lit(mean_salary)).otherwise(df_sal.Salary_fix))\n",
    "\n",
    "df_sal.show()"
   ]
  },
  {
   "cell_type": "markdown",
   "id": "67001cf6",
   "metadata": {},
   "source": [
    "### Update the Latitude with Median where latitude value is missing/NULL"
   ]
  },
  {
   "cell_type": "code",
   "execution_count": 6,
   "id": "814c74b3",
   "metadata": {},
   "outputs": [
    {
     "name": "stdout",
     "output_type": "stream",
     "text": [
      "+----------+\n",
      "|Latitude_N|\n",
      "+----------+\n",
      "| 50.577408|\n",
      "|  48.82316|\n",
      "| 39.994747|\n",
      "| 44.504723|\n",
      "| 53.426613|\n",
      "| 24.879416|\n",
      "| 45.190517|\n",
      "| 32.027935|\n",
      "|  4.272793|\n",
      "|     -5.85|\n",
      "|  39.17238|\n",
      "|  49.81518|\n",
      "|  42.10148|\n",
      "|  49.79233|\n",
      "| 43.494576|\n",
      "| 52.744167|\n",
      "| 38.696247|\n",
      "|-7.7232566|\n",
      "| 40.717205|\n",
      "|  49.16291|\n",
      "+----------+\n",
      "only showing top 20 rows\n",
      "\n",
      "31.93397331237793\n",
      "+---+----------+----------+------+---------------+--------------------+---------+----------+-----------+----------+----------------+-----------------+\n",
      "| id|first_name| last_name|gender|           City|            JobTitle|   Salary|  Latitude|  Longitude|Salary_fix|      New_salary|              lat|\n",
      "+---+----------+----------+------+---------------+--------------------+---------+----------+-----------+----------+----------------+-----------------+\n",
      "|  1|   Melinde| Shilburne|Female|      Nowa Ruda| Assistant Professor|$57438.18|50.5774075| 16.4967184|  57438.18|   57438.1796875|       50.5774075|\n",
      "|  2|  Kimberly|Von Welden|Female|         Bulgan|       Programmer II|$62846.60|48.8231572|103.5218199|   62846.6|   62846.6015625|       48.8231572|\n",
      "|  3|    Alvera|  Di Boldi|Female|           NULL|                NULL|$57576.52|39.9947462|116.3397725|  57576.52|  57576.51953125|       39.9947462|\n",
      "|  4|   Shannon| O'Griffin|  Male|  Divnomorskoye|Budget/Accounting...|$61489.23|44.5047212| 38.1300171|  61489.23|  61489.23046875|       44.5047212|\n",
      "|  5|  Sherwood|   Macieja|  Male|      Mytishchi|            VP Sales|$63863.09|      NULL| 37.6489954|  63863.09|  63863.08984375|31.93397331237793|\n",
      "|  6|     Maris|      Folk|Female|Kinsealy-Drinan|      Civil Engineer|$30101.16|53.4266145| -6.1644997|  30101.16|  30101.16015625|       53.4266145|\n",
      "|  7|     Masha|    Divers|Female|         Dachun|                NULL|$25090.87| 24.879416| 118.930111|  25090.87| 25090.869140625|        24.879416|\n",
      "|  8|   Goddart|     Flear|  Male|      Trélissac|Desktop Support T...|$46116.36|45.1905186|  0.7423124|  46116.36|    46116.359375|       45.1905186|\n",
      "|  9|      Roth|O'Cannavan|  Male|         Heitan|VP Product Manage...|$73697.10| 32.027934| 106.657113|   73697.1|   73697.1015625|        32.027934|\n",
      "| 10|      Bran|   Trahear|  Male|       Arbeláez|Mechanical System...|$68098.42|  4.272793| -74.416014|  68098.42|    68098.421875|         4.272793|\n",
      "| 11|    Kylynn|   Lockart|Female|       El Cardo|Nuclear Power Eng...|$13604.63|     -5.85|-79.8833329|  13604.63|13604.6298828125|            -5.85|\n",
      "| 12|       Rey|    Meharg|Female|    Wangqingtuo|Systems Administr...|$73423.70| 39.172378| 116.931607|   73423.7|    73423.703125|        39.172378|\n",
      "| 13|      Kerr|    Braden|  Male|      Sułkowice|Compensation Analyst|$33432.99|49.8151822| 19.3771749|  33432.99|  33432.98828125|       49.8151822|\n",
      "| 14|    Mickie| Whanstall|  Male|    Springfield|Assistant Media P...|$50838.53|42.1014803|-72.5766759|  50838.53|     50838.53125|       42.1014803|\n",
      "| 15|    Kaspar|     Pally|  Male|         Chrást|  Analyst Programmer|$40163.03|49.7923299| 13.4915324|  40163.03|     40163.03125|       49.7923299|\n",
      "| 16|    Norbie|    Gwyllt|  Male|         Xijiao|              Editor|$32492.73|43.4945737|  5.8978018|  32492.73|  32492.73046875|       43.4945737|\n",
      "| 17|    Claude|    Briant|Female|      Mieścisko|Research Assistan...|$51862.48|52.7441662| 17.3278637|  51862.48|  51862.48046875|       52.7441662|\n",
      "| 18|     Thain|    Habbon|  Male| Foros do Trapo|     Design Engineer|$42135.67| 38.696249| -8.7098337|  42135.67|    42135.671875|        38.696249|\n",
      "| 19|  Tiffanie|  Pattison|Female|    Jabungsisir|Senior Financial ...|$91925.08|-7.7232567|113.4686802|  91925.08|    91925.078125|       -7.7232567|\n",
      "| 20|    Ettore|  Gerriets|  Male|          Pedra| Staff Accountant IV|$73921.33|40.7172049| -8.3625148|  73921.33|    73921.328125|       40.7172049|\n",
      "+---+----------+----------+------+---------------+--------------------+---------+----------+-----------+----------+----------------+-----------------+\n",
      "only showing top 20 rows\n",
      "\n"
     ]
    }
   ],
   "source": [
    "latitude = df_sal.select('Latitude')\n",
    "\n",
    "latitude = latitude.filter(latitude.Latitude.isNotNull())\n",
    "\n",
    "latitude = latitude.withColumn('Latitude_N', latitude.Latitude.cast('float')).select('Latitude_N')\n",
    "\n",
    "latitude.show()\n",
    "\n",
    "import numpy as np\n",
    "\n",
    "median = np.median(latitude.collect())\n",
    "print(median)\n",
    "\n",
    "df_sal =df_sal.withColumn('lat', when(df_sal.Latitude.isNull(), lit(median)).otherwise(df_sal.Latitude))\n",
    "df_sal.show()"
   ]
  },
  {
   "cell_type": "markdown",
   "id": "cf7d4d60",
   "metadata": {},
   "source": [
    "#### By Job Title , Men & women get paid on average"
   ]
  },
  {
   "cell_type": "code",
   "execution_count": 7,
   "id": "c68840ec",
   "metadata": {},
   "outputs": [
    {
     "name": "stdout",
     "output_type": "stream",
     "text": [
      "+------+-----------------+\n",
      "|gender|       avg_salary|\n",
      "+------+-----------------+\n",
      "|Female|55618.94298820185|\n",
      "|  Male|55361.09385573019|\n",
      "+------+-----------------+\n",
      "\n"
     ]
    }
   ],
   "source": [
    "\n",
    "genders = df_sal.groupBy(df_sal.gender).agg(avg(df_sal.New_salary).alias('avg_salary'))\n",
    "\n",
    "genders.show()"
   ]
  },
  {
   "cell_type": "markdown",
   "id": "5dcb374a",
   "metadata": {},
   "source": [
    "#### Per Job-role who get paid more gender wise"
   ]
  },
  {
   "cell_type": "code",
   "execution_count": 27,
   "id": "5bd24909",
   "metadata": {},
   "outputs": [
    {
     "name": "stdout",
     "output_type": "stream",
     "text": [
      "+-----------------------------+------------------+------------------+-------------------+\n",
      "|JobTitle                     |avg_female_sal    |avg_male_sal      |delta              |\n",
      "+-----------------------------+------------------+------------------+-------------------+\n",
      "|Systems Administrator II     |50590.474609375   |15540.9501953125  |35049.5244140625   |\n",
      "|Media Manager III            |29586.436197916668|17381.920572916668|12204.515625       |\n",
      "|Recruiting Manager           |34848.452473958336|26383.4951171875  |8464.957356770836  |\n",
      "|Geologist III                |31749.046875      |12830.75390625    |18918.29296875     |\n",
      "|Geologist II                 |0.0               |43293.865234375   |-43293.865234375   |\n",
      "|Database Administrator IV    |0.0               |52018.4609375     |-52018.4609375     |\n",
      "|Financial Analyst            |23353.776953125   |39606.05625       |-16252.279296875   |\n",
      "|Analyst Programmer           |16406.1287109375  |21042.9634765625  |-4636.834765625001 |\n",
      "|Software Engineer II         |0.0               |74782.640625      |-74782.640625      |\n",
      "|Accountant IV                |82732.248046875   |0.0               |82732.248046875    |\n",
      "|Product Engineer             |41825.48359375    |20464.94375       |21360.539843750004 |\n",
      "|Software Test Engineer II    |32218.6083984375  |27122.462890625   |5096.1455078125    |\n",
      "|Safety Technician III        |0.0               |29421.529296875   |-29421.529296875   |\n",
      "|Junior Executive             |15752.220052083334|49510.330729166664|-33758.11067708333 |\n",
      "|Systems Administrator III    |77059.21875       |0.0               |77059.21875        |\n",
      "|Human Resources Assistant III|24022.662109375   |16609.27783203125 |7413.38427734375   |\n",
      "|VP Marketing                 |7981.178385416667 |52844.534830729164|-44863.3564453125  |\n",
      "|Environmental Tech           |13706.980143229166|45660.890625      |-31953.910481770836|\n",
      "|Mechanical Systems Engineer  |31370.781901041668|44321.593098958336|-12950.811197916668|\n",
      "|Assistant Professor          |22175.953515625   |26912.770703125   |-4736.817187500001 |\n",
      "+-----------------------------+------------------+------------------+-------------------+\n",
      "only showing top 20 rows\n",
      "\n"
     ]
    }
   ],
   "source": [
    "df_new = df_sal.withColumn('female_sal', when(df_sal.gender == 'Female', df_sal.New_salary).otherwise(lit(0)))\n",
    "df_final = df_new.withColumn('male_sal', when(df_new.gender == 'Male', df_new.New_salary).otherwise(lit(0)))\n",
    "\n",
    "df_agg = df_final.groupBy(df_final.JobTitle).agg(avg(\"female_sal\").alias('avg_female_sal'), avg(df_final.male_sal).alias('avg_male_sal'))\n",
    "df_agg = df_agg.withColumn('delta', df_agg.avg_female_sal - df_agg.avg_male_sal)\n",
    "df_agg.show(truncate=False)"
   ]
  },
  {
   "cell_type": "markdown",
   "id": "4b44aaa7",
   "metadata": {},
   "source": [
    "#### Which city have highest average salary"
   ]
  },
  {
   "cell_type": "code",
   "execution_count": 37,
   "id": "f04876c9",
   "metadata": {},
   "outputs": [
    {
     "name": "stdout",
     "output_type": "stream",
     "text": [
      "+-----------------+---------------+\n",
      "|             City|avg_city_salary|\n",
      "+-----------------+---------------+\n",
      "|        Mesopotam|    99948.28125|\n",
      "|       Zhongcheng|   99942.921875|\n",
      "|           Caxias|  99786.3984375|\n",
      "|      Karangtawar|  99638.9921875|\n",
      "|        Itabaiana|    99502.15625|\n",
      "|           Pasian|    99421.34375|\n",
      "|           Webuye|   99368.546875|\n",
      "|      Yuktae-dong|   99250.828125|\n",
      "|           Zinder|    99222.84375|\n",
      "|   Timiryazevskiy|     99142.9375|\n",
      "|        Sawahbaru|  99013.7109375|\n",
      "|          Madimba|  98737.8671875|\n",
      "|         Huangshi|    98690.34375|\n",
      "|          Gharyan|     98679.3125|\n",
      "|         Yŏnan-ŭp|   98628.609375|\n",
      "|     Wringinputih|  98603.8203125|\n",
      "|Monte da Boavista|    98586.71875|\n",
      "|          Klukeng|  98439.4921875|\n",
      "|         Murmashi|    98226.15625|\n",
      "|        Fox Creek|        98138.0|\n",
      "+-----------------+---------------+\n",
      "only showing top 20 rows\n",
      "\n"
     ]
    }
   ],
   "source": [
    "city_avg = df_sal.groupBy('City').agg(avg('New_salary').alias('avg_city_salary')).orderBy('avg_city_salary', ascending=False)\n",
    "city_avg = city_avg.sort(col('avg_city_salary').desc())\n",
    "city_avg.show()"
   ]
  }
 ],
 "metadata": {
  "kernelspec": {
   "display_name": "Python 3",
   "language": "python",
   "name": "python3"
  },
  "language_info": {
   "codemirror_mode": {
    "name": "ipython",
    "version": 3
   },
   "file_extension": ".py",
   "mimetype": "text/x-python",
   "name": "python",
   "nbconvert_exporter": "python",
   "pygments_lexer": "ipython3",
   "version": "3.10.11"
  }
 },
 "nbformat": 4,
 "nbformat_minor": 5
}

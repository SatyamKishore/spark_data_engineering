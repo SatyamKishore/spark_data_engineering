{
 "cells": [
  {
   "cell_type": "code",
   "execution_count": 2,
   "id": "7f1b2b49",
   "metadata": {},
   "outputs": [],
   "source": [
    "from pyspark.sql import SparkSession\n",
    "\n",
    "spark = SparkSession.builder \\\n",
    "    .appName(\"spark-sql\") \\\n",
    "    .getOrCreate()\n",
    "\n"
   ]
  },
  {
   "cell_type": "markdown",
   "id": "b687bbff",
   "metadata": {},
   "source": [
    "#### Read the Challenge.csv and add a column 'Mexico' to say yes or no to whether country is Mexico"
   ]
  },
  {
   "cell_type": "code",
   "execution_count": 14,
   "id": "52fd616e",
   "metadata": {},
   "outputs": [],
   "source": [
    "from pyspark.sql.types import *\n",
    "from pyspark.sql.functions import *\n",
    "\n",
    "challenge_schema = StructType([\n",
    "    StructField(\"ip_address\", StringType()),\n",
    "    StructField(\"country\", StringType()),\n",
    "    StructField(\"domain_name\", StringType()),\n",
    "    StructField(\"bytes_used\", IntegerType())])"
   ]
  },
  {
   "cell_type": "code",
   "execution_count": 15,
   "id": "5078ec85",
   "metadata": {},
   "outputs": [
    {
     "name": "stdout",
     "output_type": "stream",
     "text": [
      "+--------------+---------+----------------+----------+\n",
      "|ip_address    |country  |domain_name     |bytes_used|\n",
      "+--------------+---------+----------------+----------+\n",
      "|52.81.192.172 |China    |odnoklassniki.ru|463       |\n",
      "|119.239.207.13|China    |youtu.be        |51        |\n",
      "|68.69.217.210 |China    |adobe.com       |10        |\n",
      "|7.191.21.223  |Bulgaria |linkedin.com    |853       |\n",
      "|211.13.10.68  |Indonesia|hud.gov         |29        |\n",
      "+--------------+---------+----------------+----------+\n",
      "only showing top 5 rows\n",
      "\n"
     ]
    }
   ],
   "source": [
    "df = spark.read.csv(\"../data/challenge.csv\", header=True, schema=challenge_schema)\n",
    "df.show(5, truncate=False)\n"
   ]
  },
  {
   "cell_type": "code",
   "execution_count": 16,
   "id": "10e2f95a",
   "metadata": {},
   "outputs": [
    {
     "name": "stdout",
     "output_type": "stream",
     "text": [
      "+---------------+--------------+-----------------+----------+------+\n",
      "|     ip_address|       country|      domain_name|bytes_used|Mexico|\n",
      "+---------------+--------------+-----------------+----------+------+\n",
      "|  52.81.192.172|         China| odnoklassniki.ru|       463|    No|\n",
      "| 119.239.207.13|         China|         youtu.be|        51|    No|\n",
      "|  68.69.217.210|         China|        adobe.com|        10|    No|\n",
      "|   7.191.21.223|      Bulgaria|     linkedin.com|       853|    No|\n",
      "|   211.13.10.68|     Indonesia|          hud.gov|        29|    No|\n",
      "|   239.80.21.97|      Suriname|       smh.com.au|       218|    No|\n",
      "|106.214.106.233|       Jamaica|    amazonaws.com|        95|    No|\n",
      "| 127.242.24.138|         China| surveymonkey.com|       123|    No|\n",
      "|     99.2.6.139|Czech Republic|     geocities.jp|       322|    No|\n",
      "|   237.54.11.63|         China|       amazon.com|        83|    No|\n",
      "| 252.141.157.25|         Japan|      cornell.edu|       374|    No|\n",
      "|185.220.128.248|       Belgium|       weebly.com|       389|    No|\n",
      "|   151.77.19.45|   Afghanistan|independent.co.uk|       282|    No|\n",
      "|  9.161.158.225|     Indonesia|    bloglines.com|       726|    No|\n",
      "| 156.144.61.155|Czech Republic|   slideshare.net|       657|    No|\n",
      "|   8.96.188.151|     Indonesia|          ibm.com|       517|    No|\n",
      "|      5.72.7.65|        Mexico|         youtu.be|       877|   Yes|\n",
      "|227.110.112.144|       Croatia|         ehow.com|       287|    No|\n",
      "|    81.71.28.97|      Thailand|          last.fm|       588|    No|\n",
      "|  9.255.129.184|      Thailand|          mtv.com|       114|    No|\n",
      "+---------------+--------------+-----------------+----------+------+\n",
      "only showing top 20 rows\n",
      "\n"
     ]
    }
   ],
   "source": [
    "df = df.withColumn(\"Mexico\", when(df.country == \"Mexico\", lit('Yes')).otherwise(lit('No'))) \n",
    "df.show()"
   ]
  },
  {
   "cell_type": "markdown",
   "id": "86a4331a",
   "metadata": {},
   "source": [
    "#### Group by New Column and sum bytes_used"
   ]
  },
  {
   "cell_type": "code",
   "execution_count": 17,
   "id": "61607d52",
   "metadata": {},
   "outputs": [
    {
     "name": "stdout",
     "output_type": "stream",
     "text": [
      "+------+-----------+\n",
      "|Mexico|total_bytes|\n",
      "+------+-----------+\n",
      "|    No|     508076|\n",
      "|   Yes|       6293|\n",
      "+------+-----------+\n",
      "\n"
     ]
    }
   ],
   "source": [
    "group_df = df.groupBy(\"Mexico\").agg(sum(\"bytes_used\").alias(\"total_bytes\"))\n",
    "group_df.show()"
   ]
  },
  {
   "cell_type": "markdown",
   "id": "5d83bc3e",
   "metadata": {},
   "source": [
    "#### Group by Country & use the countdistinct function to calculate the number of IP adress seen in EACH country"
   ]
  },
  {
   "cell_type": "code",
   "execution_count": 24,
   "id": "0c5e652e",
   "metadata": {},
   "outputs": [
    {
     "name": "stdout",
     "output_type": "stream",
     "text": [
      "+-----------+-----------------+\n",
      "|country    |distinct_ip_count|\n",
      "+-----------+-----------------+\n",
      "|China      |172              |\n",
      "|Indonesia  |114              |\n",
      "|Philippines|65               |\n",
      "|Russia     |56               |\n",
      "|Brazil     |35               |\n",
      "+-----------+-----------------+\n",
      "only showing top 5 rows\n",
      "\n"
     ]
    }
   ],
   "source": [
    "df_country = df.groupBy(\"country\").agg(countDistinct(\"ip_address\").alias(\"distinct_ip_count\"))\n",
    "# df_country.sort(desc(\"distinct_ip_count\")).show()\n",
    "df_country.sort(\"distinct_ip_count\", ascending=False).show(5, truncate=False)"
   ]
  }
 ],
 "metadata": {
  "kernelspec": {
   "display_name": "Python 3",
   "language": "python",
   "name": "python3"
  },
  "language_info": {
   "codemirror_mode": {
    "name": "ipython",
    "version": 3
   },
   "file_extension": ".py",
   "mimetype": "text/x-python",
   "name": "python",
   "nbconvert_exporter": "python",
   "pygments_lexer": "ipython3",
   "version": "3.10.11"
  }
 },
 "nbformat": 4,
 "nbformat_minor": 5
}
